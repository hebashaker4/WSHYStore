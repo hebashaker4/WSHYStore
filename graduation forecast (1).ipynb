{
 "cells": [
  {
   "cell_type": "code",
   "execution_count": 2,
   "id": "7518e021-358e-4647-b3ea-17e13d7b7a2b",
   "metadata": {},
   "outputs": [
    {
     "name": "stdout",
     "output_type": "stream",
     "text": [
      "Requirement already satisfied: scikit-learn in c:\\users\\heba\\appdata\\local\\programs\\python\\python312\\lib\\site-packages (1.5.2)Note: you may need to restart the kernel to use updated packages.\n"
     ]
    },
    {
     "name": "stderr",
     "output_type": "stream",
     "text": [
      "\n",
      "[notice] A new release of pip is available: 24.1.2 -> 24.2\n",
      "[notice] To update, run: python.exe -m pip install --upgrade pip\n"
     ]
    },
    {
     "name": "stdout",
     "output_type": "stream",
     "text": [
      "\n",
      "Requirement already satisfied: pandas in c:\\users\\heba\\appdata\\local\\programs\\python\\python312\\lib\\site-packages (2.2.2)\n",
      "Requirement already satisfied: matplotlib in c:\\users\\heba\\appdata\\local\\programs\\python\\python312\\lib\\site-packages (3.9.1)\n",
      "Requirement already satisfied: numpy>=1.19.5 in c:\\users\\heba\\appdata\\local\\programs\\python\\python312\\lib\\site-packages (from scikit-learn) (2.0.1)\n",
      "Requirement already satisfied: scipy>=1.6.0 in c:\\users\\heba\\appdata\\local\\programs\\python\\python312\\lib\\site-packages (from scikit-learn) (1.14.1)\n",
      "Requirement already satisfied: joblib>=1.2.0 in c:\\users\\heba\\appdata\\local\\programs\\python\\python312\\lib\\site-packages (from scikit-learn) (1.4.2)\n",
      "Requirement already satisfied: threadpoolctl>=3.1.0 in c:\\users\\heba\\appdata\\local\\programs\\python\\python312\\lib\\site-packages (from scikit-learn) (3.5.0)\n",
      "Requirement already satisfied: python-dateutil>=2.8.2 in c:\\users\\heba\\appdata\\local\\programs\\python\\python312\\lib\\site-packages (from pandas) (2.9.0.post0)\n",
      "Requirement already satisfied: pytz>=2020.1 in c:\\users\\heba\\appdata\\local\\programs\\python\\python312\\lib\\site-packages (from pandas) (2024.1)\n",
      "Requirement already satisfied: tzdata>=2022.7 in c:\\users\\heba\\appdata\\local\\programs\\python\\python312\\lib\\site-packages (from pandas) (2024.1)\n",
      "Requirement already satisfied: contourpy>=1.0.1 in c:\\users\\heba\\appdata\\local\\programs\\python\\python312\\lib\\site-packages (from matplotlib) (1.2.1)\n",
      "Requirement already satisfied: cycler>=0.10 in c:\\users\\heba\\appdata\\local\\programs\\python\\python312\\lib\\site-packages (from matplotlib) (0.12.1)\n",
      "Requirement already satisfied: fonttools>=4.22.0 in c:\\users\\heba\\appdata\\local\\programs\\python\\python312\\lib\\site-packages (from matplotlib) (4.53.1)\n",
      "Requirement already satisfied: kiwisolver>=1.3.1 in c:\\users\\heba\\appdata\\local\\programs\\python\\python312\\lib\\site-packages (from matplotlib) (1.4.5)\n",
      "Requirement already satisfied: packaging>=20.0 in c:\\users\\heba\\appdata\\local\\programs\\python\\python312\\lib\\site-packages (from matplotlib) (24.1)\n",
      "Requirement already satisfied: pillow>=8 in c:\\users\\heba\\appdata\\local\\programs\\python\\python312\\lib\\site-packages (from matplotlib) (10.4.0)\n",
      "Requirement already satisfied: pyparsing>=2.3.1 in c:\\users\\heba\\appdata\\local\\programs\\python\\python312\\lib\\site-packages (from matplotlib) (3.1.2)\n",
      "Requirement already satisfied: six>=1.5 in c:\\users\\heba\\appdata\\local\\programs\\python\\python312\\lib\\site-packages (from python-dateutil>=2.8.2->pandas) (1.16.0)\n"
     ]
    }
   ],
   "source": [
    "pip install scikit-learn pandas matplotlib\n"
   ]
  },
  {
   "cell_type": "code",
   "execution_count": 11,
   "id": "aa80b7b8-4f45-4416-bab1-1c96e1324671",
   "metadata": {},
   "outputs": [
    {
     "ename": "KeyError",
     "evalue": "'Sales'",
     "output_type": "error",
     "traceback": [
      "\u001b[1;31m---------------------------------------------------------------------------\u001b[0m",
      "\u001b[1;31mKeyError\u001b[0m                                  Traceback (most recent call last)",
      "File \u001b[1;32m~\\AppData\\Local\\Programs\\Python\\Python312\\Lib\\site-packages\\pandas\\core\\indexes\\base.py:3805\u001b[0m, in \u001b[0;36mIndex.get_loc\u001b[1;34m(self, key)\u001b[0m\n\u001b[0;32m   3804\u001b[0m \u001b[38;5;28;01mtry\u001b[39;00m:\n\u001b[1;32m-> 3805\u001b[0m     \u001b[38;5;28;01mreturn\u001b[39;00m \u001b[38;5;28;43mself\u001b[39;49m\u001b[38;5;241;43m.\u001b[39;49m\u001b[43m_engine\u001b[49m\u001b[38;5;241;43m.\u001b[39;49m\u001b[43mget_loc\u001b[49m\u001b[43m(\u001b[49m\u001b[43mcasted_key\u001b[49m\u001b[43m)\u001b[49m\n\u001b[0;32m   3806\u001b[0m \u001b[38;5;28;01mexcept\u001b[39;00m \u001b[38;5;167;01mKeyError\u001b[39;00m \u001b[38;5;28;01mas\u001b[39;00m err:\n",
      "File \u001b[1;32mindex.pyx:167\u001b[0m, in \u001b[0;36mpandas._libs.index.IndexEngine.get_loc\u001b[1;34m()\u001b[0m\n",
      "File \u001b[1;32mindex.pyx:196\u001b[0m, in \u001b[0;36mpandas._libs.index.IndexEngine.get_loc\u001b[1;34m()\u001b[0m\n",
      "File \u001b[1;32mpandas\\\\_libs\\\\hashtable_class_helper.pxi:7081\u001b[0m, in \u001b[0;36mpandas._libs.hashtable.PyObjectHashTable.get_item\u001b[1;34m()\u001b[0m\n",
      "File \u001b[1;32mpandas\\\\_libs\\\\hashtable_class_helper.pxi:7089\u001b[0m, in \u001b[0;36mpandas._libs.hashtable.PyObjectHashTable.get_item\u001b[1;34m()\u001b[0m\n",
      "\u001b[1;31mKeyError\u001b[0m: 'Sales'",
      "\nThe above exception was the direct cause of the following exception:\n",
      "\u001b[1;31mKeyError\u001b[0m                                  Traceback (most recent call last)",
      "Cell \u001b[1;32mIn[11], line 21\u001b[0m\n\u001b[0;32m     18\u001b[0m X \u001b[38;5;241m=\u001b[39m data[[\u001b[38;5;124m'\u001b[39m\u001b[38;5;124mYear\u001b[39m\u001b[38;5;124m'\u001b[39m, \u001b[38;5;124m'\u001b[39m\u001b[38;5;124mMonth\u001b[39m\u001b[38;5;124m'\u001b[39m]]\n\u001b[0;32m     20\u001b[0m \u001b[38;5;66;03m# Target (Revenue)\u001b[39;00m\n\u001b[1;32m---> 21\u001b[0m y \u001b[38;5;241m=\u001b[39m \u001b[43mdata\u001b[49m\u001b[43m[\u001b[49m\u001b[38;5;124;43m'\u001b[39;49m\u001b[38;5;124;43mSales\u001b[39;49m\u001b[38;5;124;43m'\u001b[39;49m\u001b[43m]\u001b[49m\n\u001b[0;32m     24\u001b[0m \u001b[38;5;66;03m# Split the data into training and testing datasets (e.g., 80% for training, 20% for testing)\u001b[39;00m\n\u001b[0;32m     25\u001b[0m train_size \u001b[38;5;241m=\u001b[39m \u001b[38;5;28mint\u001b[39m(\u001b[38;5;241m0.8\u001b[39m \u001b[38;5;241m*\u001b[39m \u001b[38;5;28mlen\u001b[39m(data))\n",
      "File \u001b[1;32m~\\AppData\\Local\\Programs\\Python\\Python312\\Lib\\site-packages\\pandas\\core\\frame.py:4102\u001b[0m, in \u001b[0;36mDataFrame.__getitem__\u001b[1;34m(self, key)\u001b[0m\n\u001b[0;32m   4100\u001b[0m \u001b[38;5;28;01mif\u001b[39;00m \u001b[38;5;28mself\u001b[39m\u001b[38;5;241m.\u001b[39mcolumns\u001b[38;5;241m.\u001b[39mnlevels \u001b[38;5;241m>\u001b[39m \u001b[38;5;241m1\u001b[39m:\n\u001b[0;32m   4101\u001b[0m     \u001b[38;5;28;01mreturn\u001b[39;00m \u001b[38;5;28mself\u001b[39m\u001b[38;5;241m.\u001b[39m_getitem_multilevel(key)\n\u001b[1;32m-> 4102\u001b[0m indexer \u001b[38;5;241m=\u001b[39m \u001b[38;5;28;43mself\u001b[39;49m\u001b[38;5;241;43m.\u001b[39;49m\u001b[43mcolumns\u001b[49m\u001b[38;5;241;43m.\u001b[39;49m\u001b[43mget_loc\u001b[49m\u001b[43m(\u001b[49m\u001b[43mkey\u001b[49m\u001b[43m)\u001b[49m\n\u001b[0;32m   4103\u001b[0m \u001b[38;5;28;01mif\u001b[39;00m is_integer(indexer):\n\u001b[0;32m   4104\u001b[0m     indexer \u001b[38;5;241m=\u001b[39m [indexer]\n",
      "File \u001b[1;32m~\\AppData\\Local\\Programs\\Python\\Python312\\Lib\\site-packages\\pandas\\core\\indexes\\base.py:3812\u001b[0m, in \u001b[0;36mIndex.get_loc\u001b[1;34m(self, key)\u001b[0m\n\u001b[0;32m   3807\u001b[0m     \u001b[38;5;28;01mif\u001b[39;00m \u001b[38;5;28misinstance\u001b[39m(casted_key, \u001b[38;5;28mslice\u001b[39m) \u001b[38;5;129;01mor\u001b[39;00m (\n\u001b[0;32m   3808\u001b[0m         \u001b[38;5;28misinstance\u001b[39m(casted_key, abc\u001b[38;5;241m.\u001b[39mIterable)\n\u001b[0;32m   3809\u001b[0m         \u001b[38;5;129;01mand\u001b[39;00m \u001b[38;5;28many\u001b[39m(\u001b[38;5;28misinstance\u001b[39m(x, \u001b[38;5;28mslice\u001b[39m) \u001b[38;5;28;01mfor\u001b[39;00m x \u001b[38;5;129;01min\u001b[39;00m casted_key)\n\u001b[0;32m   3810\u001b[0m     ):\n\u001b[0;32m   3811\u001b[0m         \u001b[38;5;28;01mraise\u001b[39;00m InvalidIndexError(key)\n\u001b[1;32m-> 3812\u001b[0m     \u001b[38;5;28;01mraise\u001b[39;00m \u001b[38;5;167;01mKeyError\u001b[39;00m(key) \u001b[38;5;28;01mfrom\u001b[39;00m \u001b[38;5;21;01merr\u001b[39;00m\n\u001b[0;32m   3813\u001b[0m \u001b[38;5;28;01mexcept\u001b[39;00m \u001b[38;5;167;01mTypeError\u001b[39;00m:\n\u001b[0;32m   3814\u001b[0m     \u001b[38;5;66;03m# If we have a listlike key, _check_indexing_error will raise\u001b[39;00m\n\u001b[0;32m   3815\u001b[0m     \u001b[38;5;66;03m#  InvalidIndexError. Otherwise we fall through and re-raise\u001b[39;00m\n\u001b[0;32m   3816\u001b[0m     \u001b[38;5;66;03m#  the TypeError.\u001b[39;00m\n\u001b[0;32m   3817\u001b[0m     \u001b[38;5;28mself\u001b[39m\u001b[38;5;241m.\u001b[39m_check_indexing_error(key)\n",
      "\u001b[1;31mKeyError\u001b[0m: 'Sales'"
     ]
    }
   ],
   "source": [
    "import pandas as pd\n",
    "import numpy as np\n",
    "from sklearn.linear_model import LinearRegression\n",
    "import matplotlib.pyplot as plt\n",
    "\n",
    "# Load your dataset\n",
    "data = pd.read_csv('C:/Users/Heba/Documents/Final graduation documents/cleaned_wshy_store.csv')\n",
    "\n",
    "# Assuming your dataset has 'Date' and 'Revenue' columns.\n",
    "# Convert 'Date' column to datetime if not already\n",
    "data['Date'] = pd.to_datetime(data['Date'])\n",
    "\n",
    "# Extract features from the date (Year, Month)\n",
    "data['Year'] = data['Date'].dt.year\n",
    "data['Month'] = data['Date'].dt.month\n",
    "\n",
    "# Feature selection for the model (using Year and Month for simplicity)\n",
    "X = data[['Year', 'Month']]\n",
    "\n",
    "# Target (Revenue)\n",
    "y = data['Sales']\n",
    "\n",
    "\n",
    "# Split the data into training and testing datasets (e.g., 80% for training, 20% for testing)\n",
    "train_size = int(0.8 * len(data))\n",
    "X_train, X_test = X[:train_size], X[train_size:]\n",
    "y_train, y_test = y[:train_size], y[train_size:]\n",
    "\n",
    "# Create and train the model\n",
    "model = LinearRegression()\n",
    "model.fit(X_train, y_train)\n",
    "\n",
    "# Generate future dates for prediction\n",
    "future_dates = pd.date_range(start='2024-03-01', end='2025-02-28', freq='M')\n",
    "future_data = pd.DataFrame({\n",
    "    'Year': future_dates.year,\n",
    "    'Month': future_dates.month\n",
    "})\n",
    "\n",
    "# Make predictions for the future data\n",
    "future_predictions = model.predict(future_data)\n",
    "\n",
    "# Convert the future data into a DataFrame\n",
    "forecast = pd.DataFrame({\n",
    "    'Date': future_dates,\n",
    "    'Predicted_Revenue': future_predictions\n",
    "})\n",
    "\n",
    "# Group by quarters\n",
    "forecast['Quarter'] = forecast['Date'].dt.to_period('Q')\n",
    "quarterly_forecast = forecast.groupby('Quarter')['Predicted_Revenue'].sum().reset_index()\n",
    "\n",
    "# Visualize the forecasted revenue\n",
    "plt.figure(figsize=(10, 6))\n",
    "plt.bar(quarterly_forecast['Quarter'].astype(str), quarterly_forecast['Predicted_Revenue'], color='skyblue')\n",
    "plt.title('Quarterly Revenue Forecast for 2024-2025')\n",
    "plt.xlabel('Quarter')\n",
    "plt.ylabel('Predicted Revenue')\n",
    "plt.xticks(rotation=45)\n",
    "plt.show()\n"
   ]
  },
  {
   "cell_type": "code",
   "execution_count": 5,
   "id": "8d75d423-ce95-4e79-9704-31db1fbc939b",
   "metadata": {},
   "outputs": [
    {
     "name": "stdout",
     "output_type": "stream",
     "text": [
      "   Transaction_ID  Customer_ID                 Name                Email  \\\n",
      "0         8691788        37249  Michelle Harrington    Ebony39@gmail.com   \n",
      "1         2174773        69749          Kelsey Hill     Mark36@gmail.com   \n",
      "2         6679610        30192         Scott Jensen    Shane85@gmail.com   \n",
      "3         7232460        62101        Joseph Miller     Mary34@gmail.com   \n",
      "4         4983775        27901        Debra Coleman  Charles30@gmail.com   \n",
      "\n",
      "        Phone                      Address        City            State  \\\n",
      "0  1414786816            3959 Amanda Burgs    Dortmund           Berlin   \n",
      "1 -2147483648           82072 Dawn Centers  Nottingham          England   \n",
      "2 -2147483648            4133 Young Canyon     Geelong  New South Wales   \n",
      "3 -2147483648  8148 Thomas Creek Suite 100    Edmonton          Ontario   \n",
      "4 -2147483648    5813 Lori Ports Suite 269     Bristol          England   \n",
      "\n",
      "   Zipcode    Country  ...  Shipping_Method Payment_Method Order_Status  \\\n",
      "0    77985    Germany  ...         Same-Day     Debit Card      Shipped   \n",
      "1    99071         UK  ...         Standard    Credit Card   Processing   \n",
      "2    75929  Australia  ...         Same-Day    Credit Card   Processing   \n",
      "3    88420     Canada  ...         Standard         PayPal   Processing   \n",
      "4    48704         UK  ...         Standard           Cash      Shipped   \n",
      "\n",
      "  Ratings           products     BranchName      StaffName  OfferName  \\\n",
      "0       5     Cycling shorts       Eastside    Emily Davis    50% off   \n",
      "1       4         Lenovo Tab  Central Plaza  Michael Brown   No Offer   \n",
      "2       2   Sports equipment     Downtown .     Jane Smith    10% off   \n",
      "3       4      Utility knife       Eastside    Emily Davis   No Offer   \n",
      "4       1  Chocolate cookies       Eastside    Emily Davis    20% off   \n",
      "\n",
      "  DiscountValue    Net_Value  \n",
      "0           0.5   162.043137  \n",
      "1           1.0   806.707825  \n",
      "2           0.9   957.089465  \n",
      "3           1.0  2466.854004  \n",
      "4           0.8   198.842444  \n",
      "\n",
      "[5 rows x 32 columns]\n",
      "Index(['Transaction_ID', 'Customer_ID', 'Name', 'Email', 'Phone', 'Address',\n",
      "       'City', 'State', 'Zipcode', 'Country', 'Age', 'Gender', 'Income',\n",
      "       'Customer_Segment', 'Date', 'Total_Purchases', 'Amount', 'Total_Amount',\n",
      "       'Product_Category', 'Product_Brand', 'Product_Type', 'Feedback',\n",
      "       'Shipping_Method', 'Payment_Method', 'Order_Status', 'Ratings',\n",
      "       'products', 'BranchName', 'StaffName', 'OfferName', 'DiscountValue',\n",
      "       'Net_Value'],\n",
      "      dtype='object')\n"
     ]
    }
   ],
   "source": [
    "import pandas as pd\n",
    "\n",
    "# Load the dataset\n",
    "data = pd.read_csv('C:/Users/Heba/Documents/Final graduation documents/cleaned_wshy_store.csv')\n",
    "\n",
    "# Display the first few rows of the dataset to check the structure\n",
    "print(data.head())\n",
    "\n",
    "# Display the column names\n",
    "print(data.columns)\n"
   ]
  },
  {
   "cell_type": "code",
   "execution_count": 9,
   "id": "0b85b1b6-3071-489e-bbc1-1679daac5f88",
   "metadata": {},
   "outputs": [
    {
     "name": "stdout",
     "output_type": "stream",
     "text": [
      "Index(['Transaction_ID', 'Customer_ID', 'Name', 'Email', 'Phone', 'Address',\n",
      "       'City', 'State', 'Zipcode', 'Country', 'Age', 'Gender', 'Income',\n",
      "       'Customer_Segment', 'Date', 'Total_Purchases', 'Amount', 'Total_Amount',\n",
      "       'Product_Category', 'Product_Brand', 'Product_Type', 'Feedback',\n",
      "       'Shipping_Method', 'Payment_Method', 'Order_Status', 'Ratings',\n",
      "       'products', 'BranchName', 'StaffName', 'OfferName', 'DiscountValue',\n",
      "       'Net_Value', 'Year', 'Month'],\n",
      "      dtype='object')\n"
     ]
    }
   ],
   "source": [
    "print(data.columns)\n"
   ]
  },
  {
   "cell_type": "code",
   "execution_count": 10,
   "id": "29fef980-3ffc-4924-8106-110398cdf6bd",
   "metadata": {},
   "outputs": [
    {
     "ename": "KeyError",
     "evalue": "'Revenue'",
     "output_type": "error",
     "traceback": [
      "\u001b[1;31m---------------------------------------------------------------------------\u001b[0m",
      "\u001b[1;31mKeyError\u001b[0m                                  Traceback (most recent call last)",
      "File \u001b[1;32m~\\AppData\\Local\\Programs\\Python\\Python312\\Lib\\site-packages\\pandas\\core\\indexes\\base.py:3805\u001b[0m, in \u001b[0;36mIndex.get_loc\u001b[1;34m(self, key)\u001b[0m\n\u001b[0;32m   3804\u001b[0m \u001b[38;5;28;01mtry\u001b[39;00m:\n\u001b[1;32m-> 3805\u001b[0m     \u001b[38;5;28;01mreturn\u001b[39;00m \u001b[38;5;28;43mself\u001b[39;49m\u001b[38;5;241;43m.\u001b[39;49m\u001b[43m_engine\u001b[49m\u001b[38;5;241;43m.\u001b[39;49m\u001b[43mget_loc\u001b[49m\u001b[43m(\u001b[49m\u001b[43mcasted_key\u001b[49m\u001b[43m)\u001b[49m\n\u001b[0;32m   3806\u001b[0m \u001b[38;5;28;01mexcept\u001b[39;00m \u001b[38;5;167;01mKeyError\u001b[39;00m \u001b[38;5;28;01mas\u001b[39;00m err:\n",
      "File \u001b[1;32mindex.pyx:167\u001b[0m, in \u001b[0;36mpandas._libs.index.IndexEngine.get_loc\u001b[1;34m()\u001b[0m\n",
      "File \u001b[1;32mindex.pyx:196\u001b[0m, in \u001b[0;36mpandas._libs.index.IndexEngine.get_loc\u001b[1;34m()\u001b[0m\n",
      "File \u001b[1;32mpandas\\\\_libs\\\\hashtable_class_helper.pxi:7081\u001b[0m, in \u001b[0;36mpandas._libs.hashtable.PyObjectHashTable.get_item\u001b[1;34m()\u001b[0m\n",
      "File \u001b[1;32mpandas\\\\_libs\\\\hashtable_class_helper.pxi:7089\u001b[0m, in \u001b[0;36mpandas._libs.hashtable.PyObjectHashTable.get_item\u001b[1;34m()\u001b[0m\n",
      "\u001b[1;31mKeyError\u001b[0m: 'Revenue'",
      "\nThe above exception was the direct cause of the following exception:\n",
      "\u001b[1;31mKeyError\u001b[0m                                  Traceback (most recent call last)",
      "Cell \u001b[1;32mIn[10], line 1\u001b[0m\n\u001b[1;32m----> 1\u001b[0m y \u001b[38;5;241m=\u001b[39m \u001b[43mdata\u001b[49m\u001b[43m[\u001b[49m\u001b[38;5;124;43m'\u001b[39;49m\u001b[38;5;124;43mRevenue\u001b[39;49m\u001b[38;5;124;43m'\u001b[39;49m\u001b[43m]\u001b[49m\n",
      "File \u001b[1;32m~\\AppData\\Local\\Programs\\Python\\Python312\\Lib\\site-packages\\pandas\\core\\frame.py:4102\u001b[0m, in \u001b[0;36mDataFrame.__getitem__\u001b[1;34m(self, key)\u001b[0m\n\u001b[0;32m   4100\u001b[0m \u001b[38;5;28;01mif\u001b[39;00m \u001b[38;5;28mself\u001b[39m\u001b[38;5;241m.\u001b[39mcolumns\u001b[38;5;241m.\u001b[39mnlevels \u001b[38;5;241m>\u001b[39m \u001b[38;5;241m1\u001b[39m:\n\u001b[0;32m   4101\u001b[0m     \u001b[38;5;28;01mreturn\u001b[39;00m \u001b[38;5;28mself\u001b[39m\u001b[38;5;241m.\u001b[39m_getitem_multilevel(key)\n\u001b[1;32m-> 4102\u001b[0m indexer \u001b[38;5;241m=\u001b[39m \u001b[38;5;28;43mself\u001b[39;49m\u001b[38;5;241;43m.\u001b[39;49m\u001b[43mcolumns\u001b[49m\u001b[38;5;241;43m.\u001b[39;49m\u001b[43mget_loc\u001b[49m\u001b[43m(\u001b[49m\u001b[43mkey\u001b[49m\u001b[43m)\u001b[49m\n\u001b[0;32m   4103\u001b[0m \u001b[38;5;28;01mif\u001b[39;00m is_integer(indexer):\n\u001b[0;32m   4104\u001b[0m     indexer \u001b[38;5;241m=\u001b[39m [indexer]\n",
      "File \u001b[1;32m~\\AppData\\Local\\Programs\\Python\\Python312\\Lib\\site-packages\\pandas\\core\\indexes\\base.py:3812\u001b[0m, in \u001b[0;36mIndex.get_loc\u001b[1;34m(self, key)\u001b[0m\n\u001b[0;32m   3807\u001b[0m     \u001b[38;5;28;01mif\u001b[39;00m \u001b[38;5;28misinstance\u001b[39m(casted_key, \u001b[38;5;28mslice\u001b[39m) \u001b[38;5;129;01mor\u001b[39;00m (\n\u001b[0;32m   3808\u001b[0m         \u001b[38;5;28misinstance\u001b[39m(casted_key, abc\u001b[38;5;241m.\u001b[39mIterable)\n\u001b[0;32m   3809\u001b[0m         \u001b[38;5;129;01mand\u001b[39;00m \u001b[38;5;28many\u001b[39m(\u001b[38;5;28misinstance\u001b[39m(x, \u001b[38;5;28mslice\u001b[39m) \u001b[38;5;28;01mfor\u001b[39;00m x \u001b[38;5;129;01min\u001b[39;00m casted_key)\n\u001b[0;32m   3810\u001b[0m     ):\n\u001b[0;32m   3811\u001b[0m         \u001b[38;5;28;01mraise\u001b[39;00m InvalidIndexError(key)\n\u001b[1;32m-> 3812\u001b[0m     \u001b[38;5;28;01mraise\u001b[39;00m \u001b[38;5;167;01mKeyError\u001b[39;00m(key) \u001b[38;5;28;01mfrom\u001b[39;00m \u001b[38;5;21;01merr\u001b[39;00m\n\u001b[0;32m   3813\u001b[0m \u001b[38;5;28;01mexcept\u001b[39;00m \u001b[38;5;167;01mTypeError\u001b[39;00m:\n\u001b[0;32m   3814\u001b[0m     \u001b[38;5;66;03m# If we have a listlike key, _check_indexing_error will raise\u001b[39;00m\n\u001b[0;32m   3815\u001b[0m     \u001b[38;5;66;03m#  InvalidIndexError. Otherwise we fall through and re-raise\u001b[39;00m\n\u001b[0;32m   3816\u001b[0m     \u001b[38;5;66;03m#  the TypeError.\u001b[39;00m\n\u001b[0;32m   3817\u001b[0m     \u001b[38;5;28mself\u001b[39m\u001b[38;5;241m.\u001b[39m_check_indexing_error(key)\n",
      "\u001b[1;31mKeyError\u001b[0m: 'Revenue'"
     ]
    }
   ],
   "source": [
    "y = data['Revenue']\n"
   ]
  },
  {
   "cell_type": "code",
   "execution_count": 12,
   "id": "4876d5d6-7590-4c9b-bbf9-84982c7ee56e",
   "metadata": {},
   "outputs": [
    {
     "name": "stdout",
     "output_type": "stream",
     "text": [
      "Columns in the dataset: Index(['Transaction_ID', 'Customer_ID', 'Name', 'Email', 'Phone', 'Address',\n",
      "       'City', 'State', 'Zipcode', 'Country', 'Age', 'Gender', 'Income',\n",
      "       'Customer_Segment', 'Date', 'Total_Purchases', 'Amount', 'Total_Amount',\n",
      "       'Product_Category', 'Product_Brand', 'Product_Type', 'Feedback',\n",
      "       'Shipping_Method', 'Payment_Method', 'Order_Status', 'Ratings',\n",
      "       'products', 'BranchName', 'StaffName', 'OfferName', 'DiscountValue',\n",
      "       'Net_Value'],\n",
      "      dtype='object')\n"
     ]
    },
    {
     "ename": "KeyError",
     "evalue": "\"Column 'Sales_Revenue' not found in the dataset. Please check the column name.\"",
     "output_type": "error",
     "traceback": [
      "\u001b[1;31m---------------------------------------------------------------------------\u001b[0m",
      "\u001b[1;31mKeyError\u001b[0m                                  Traceback (most recent call last)",
      "Cell \u001b[1;32mIn[12], line 19\u001b[0m\n\u001b[0;32m     17\u001b[0m \u001b[38;5;66;03m# Check if the assumed column exists in the dataset\u001b[39;00m\n\u001b[0;32m     18\u001b[0m \u001b[38;5;28;01mif\u001b[39;00m revenue_column \u001b[38;5;129;01mnot\u001b[39;00m \u001b[38;5;129;01min\u001b[39;00m data\u001b[38;5;241m.\u001b[39mcolumns:\n\u001b[1;32m---> 19\u001b[0m     \u001b[38;5;28;01mraise\u001b[39;00m \u001b[38;5;167;01mKeyError\u001b[39;00m(\u001b[38;5;124mf\u001b[39m\u001b[38;5;124m\"\u001b[39m\u001b[38;5;124mColumn \u001b[39m\u001b[38;5;124m'\u001b[39m\u001b[38;5;132;01m{\u001b[39;00mrevenue_column\u001b[38;5;132;01m}\u001b[39;00m\u001b[38;5;124m'\u001b[39m\u001b[38;5;124m not found in the dataset. Please check the column name.\u001b[39m\u001b[38;5;124m\"\u001b[39m)\n\u001b[0;32m     21\u001b[0m \u001b[38;5;66;03m# Convert 'Date' column to datetime format, assuming the dataset has a 'Date' column\u001b[39;00m\n\u001b[0;32m     22\u001b[0m \u001b[38;5;28;01mif\u001b[39;00m \u001b[38;5;124m'\u001b[39m\u001b[38;5;124mDate\u001b[39m\u001b[38;5;124m'\u001b[39m \u001b[38;5;129;01mnot\u001b[39;00m \u001b[38;5;129;01min\u001b[39;00m data\u001b[38;5;241m.\u001b[39mcolumns:\n",
      "\u001b[1;31mKeyError\u001b[0m: \"Column 'Sales_Revenue' not found in the dataset. Please check the column name.\""
     ]
    }
   ],
   "source": [
    "import pandas as pd\n",
    "import numpy as np\n",
    "from sklearn.linear_model import LinearRegression\n",
    "import matplotlib.pyplot as plt\n",
    "\n",
    "# Load the dataset\n",
    "data = pd.read_csv('C:/Users/Heba/Documents/Final graduation documents/cleaned_wshy_store.csv')\n",
    "\n",
    "# Check the column names to find the correct column for revenue\n",
    "print(\"Columns in the dataset:\", data.columns)\n",
    "\n",
    "# Modify these column names based on the actual column names in your dataset\n",
    "# Let's assume 'Sales' or 'Revenue' is the column representing the target variable.\n",
    "# Adjust this line to use the correct revenue column:\n",
    "revenue_column = 'Sales_Revenue'  # <-- Change this if the column name differs\n",
    "\n",
    "# Check if the assumed column exists in the dataset\n",
    "if revenue_column not in data.columns:\n",
    "    raise KeyError(f\"Column '{revenue_column}' not found in the dataset. Please check the column name.\")\n",
    "\n",
    "# Convert 'Date' column to datetime format, assuming the dataset has a 'Date' column\n",
    "if 'Date' not in data.columns:\n",
    "    raise KeyError(\"The dataset does not contain a 'Date' column. Please check the column names.\")\n",
    "\n",
    "data['Date'] = pd.to_datetime(data['Date'], errors='coerce')\n",
    "\n",
    "# Check for missing or invalid dates\n",
    "if data['Date'].isnull().any():\n",
    "    print(\"Warning: There are missing or invalid dates in the dataset.\")\n",
    "\n",
    "# Feature engineering: Extract year and month from the date\n",
    "data['Year'] = data['Date'].dt.year\n",
    "data['Month'] = data['Date'].dt.month\n",
    "\n",
    "# Select the features for the model (Year and Month)\n",
    "X = data[['Year', 'Month']]\n",
    "\n",
    "# The target variable (Revenue or Sales)\n",
    "y = data[revenue_column]\n",
    "\n",
    "# Split the data into training and testing datasets (e.g., 80% for training, 20% for testing)\n",
    "train_size = int(0.8 * len(data))\n",
    "X_train, X_test = X[:train_size], X[train_size:]\n",
    "y_train, y_test = y[:train_size], y[train_size:]\n",
    "\n",
    "# Create and train the linear regression model\n",
    "model = LinearRegression()\n",
    "model.fit(X_train, y_train)\n",
    "\n",
    "# Generate future dates for prediction (March 2024 to February 2025)\n",
    "future_dates = pd.date_range(start='2024-03-01', end='2025-02-28', freq='M')\n",
    "future_data = pd.DataFrame({\n",
    "    'Year': future_dates.year,\n",
    "    'Month': future_dates.month\n",
    "})\n",
    "\n",
    "# Make predictions for the future data\n",
    "future_predictions = model.predict(future_data)\n",
    "\n",
    "# Create a DataFrame for the forecasted results\n",
    "forecast = pd.DataFrame({\n",
    "    'Date': future_dates,\n",
    "    'Predicted_Revenue': future_predictions\n",
    "})\n",
    "\n",
    "# Group the predictions by quarter\n",
    "forecast['Quarter'] = forecast['Date'].dt.to_period('Q')\n",
    "quarterly_forecast = forecast.groupby('Quarter')['Predicted_Revenue'].sum().reset_index()\n",
    "\n",
    "# Visualize the forecasted revenue\n",
    "plt.figure(figsize=(10, 6))\n",
    "plt.bar(quarterly_forecast['Quarter'].astype(str), quarterly_forecast['Predicted_Revenue'], color='skyblue')\n",
    "plt.title('Quarterly Revenue Forecast for 2024-2025')\n",
    "plt.xlabel('Quarter')\n",
    "plt.ylabel('Predicted Revenue')\n",
    "plt.xticks(rotation=45)\n",
    "plt.show()\n",
    "\n",
    "# Print the forecasted quarterly revenue\n",
    "print(quarterly_forecast)\n"
   ]
  },
  {
   "cell_type": "code",
   "execution_count": 13,
   "id": "840d0e65-e8f3-444e-a366-82c8d49d3d05",
   "metadata": {},
   "outputs": [
    {
     "name": "stdout",
     "output_type": "stream",
     "text": [
      "Columns in the dataset: Index(['Transaction_ID', 'Customer_ID', 'Name', 'Email', 'Phone', 'Address',\n",
      "       'City', 'State', 'Zipcode', 'Country', 'Age', 'Gender', 'Income',\n",
      "       'Customer_Segment', 'Date', 'Total_Purchases', 'Amount', 'Total_Amount',\n",
      "       'Product_Category', 'Product_Brand', 'Product_Type', 'Feedback',\n",
      "       'Shipping_Method', 'Payment_Method', 'Order_Status', 'Ratings',\n",
      "       'products', 'BranchName', 'StaffName', 'OfferName', 'DiscountValue',\n",
      "       'Net_Value'],\n",
      "      dtype='object')\n"
     ]
    }
   ],
   "source": [
    "# Load the dataset\n",
    "data = pd.read_csv('C:/Users/Heba/Documents/Final graduation documents/cleaned_wshy_store.csv')\n",
    "\n",
    "# Print the column names to help identify the correct revenue column\n",
    "print(\"Columns in the dataset:\", data.columns)\n"
   ]
  },
  {
   "cell_type": "code",
   "execution_count": 14,
   "id": "72791508-f4f7-460c-84ed-04f1d8f6c708",
   "metadata": {},
   "outputs": [
    {
     "name": "stderr",
     "output_type": "stream",
     "text": [
      "C:\\Users\\Heba\\AppData\\Local\\Temp\\ipykernel_18348\\1561128293.py:39: FutureWarning: 'M' is deprecated and will be removed in a future version, please use 'ME' instead.\n",
      "  future_dates = pd.date_range(start='2024-03-01', end='2025-02-28', freq='M')\n"
     ]
    },
    {
     "data": {
      "image/png": "[encoded data removed]",
      "text/plain": [
       "<Figure size 1000x600 with 1 Axes>"
      ]
     },
     "metadata": {},
     "output_type": "display_data"
    },
    {
     "name": "stdout",
     "output_type": "stream",
     "text": [
      "  Quarter  Predicted_Revenue\n",
      "0  2024Q1        1362.112629\n",
      "1  2024Q2        4080.946977\n",
      "2  2024Q3        4072.860612\n",
      "3  2024Q4        4064.774248\n",
      "4  2025Q1        2704.596281\n"
     ]
    }
   ],
   "source": [
    "import pandas as pd\n",
    "import numpy as np\n",
    "from sklearn.linear_model import LinearRegression\n",
    "import matplotlib.pyplot as plt\n",
    "\n",
    "# Load the dataset\n",
    "data = pd.read_csv('C:/Users/Heba/Documents/Final graduation documents/cleaned_wshy_store.csv')\n",
    "\n",
    "# Use 'Total_Amount' as the revenue column (adjust this if it's 'Net_Value')\n",
    "revenue_column = 'Total_Amount'\n",
    "\n",
    "# Convert 'Date' column to datetime format\n",
    "data['Date'] = pd.to_datetime(data['Date'], errors='coerce')\n",
    "\n",
    "# Check for missing or invalid dates\n",
    "if data['Date'].isnull().any():\n",
    "    print(\"Warning: There are missing or invalid dates in the dataset.\")\n",
    "\n",
    "# Feature engineering: Extract year and month from the date\n",
    "data['Year'] = data['Date'].dt.year\n",
    "data['Month'] = data['Date'].dt.month\n",
    "\n",
    "# Select the features for the model (Year and Month)\n",
    "X = data[['Year', 'Month']]\n",
    "\n",
    "# The target variable (Revenue)\n",
    "y = data[revenue_column]\n",
    "\n",
    "# Split the data into training and testing datasets (e.g., 80% for training, 20% for testing)\n",
    "train_size = int(0.8 * len(data))\n",
    "X_train, X_test = X[:train_size], X[train_size:]\n",
    "y_train, y_test = y[:train_size], y[train_size:]\n",
    "\n",
    "# Create and train the linear regression model\n",
    "model = LinearRegression()\n",
    "model.fit(X_train, y_train)\n",
    "\n",
    "# Generate future dates for prediction (March 2024 to February 2025)\n",
    "future_dates = pd.date_range(start='2024-03-01', end='2025-02-28', freq='M')\n",
    "future_data = pd.DataFrame({\n",
    "    'Year': future_dates.year,\n",
    "    'Month': future_dates.month\n",
    "})\n",
    "\n",
    "# Make predictions for the future data\n",
    "future_predictions = model.predict(future_data)\n",
    "\n",
    "# Create a DataFrame for the forecasted results\n",
    "forecast = pd.DataFrame({\n",
    "    'Date': future_dates,\n",
    "    'Predicted_Revenue': future_predictions\n",
    "})\n",
    "\n",
    "# Group the predictions by quarter\n",
    "forecast['Quarter'] = forecast['Date'].dt.to_period('Q')\n",
    "quarterly_forecast = forecast.groupby('Quarter')['Predicted_Revenue'].sum().reset_index()\n",
    "\n",
    "# Visualize the forecasted revenue\n",
    "plt.figure(figsize=(10, 6))\n",
    "plt.bar(quarterly_forecast['Quarter'].astype(str), quarterly_forecast['Predicted_Revenue'], color='skyblue')\n",
    "plt.title('Quarterly Revenue Forecast for 2024-2025')\n",
    "plt.xlabel('Quarter')\n",
    "plt.ylabel('Predicted Revenue')\n",
    "plt.xticks(rotation=45)\n",
    "plt.show()\n",
    "\n",
    "# Print the forecasted quarterly revenue\n",
    "print(quarterly_forecast)\n"
   ]
  },
  {
   "cell_type": "code",
   "execution_count": 2,
   "id": "016c3f73-33f6-4c98-b377-a75ac1bb6e74",
   "metadata": {},
   "outputs": [
    {
     "name": "stderr",
     "output_type": "stream",
     "text": [
      "C:\\Users\\Heba\\AppData\\Local\\Temp\\ipykernel_15544\\1831002447.py:39: FutureWarning: 'M' is deprecated and will be removed in a future version, please use 'ME' instead.\n",
      "  future_dates = pd.date_range(start='2024-03-01', end='2025-02-28', freq='M')\n"
     ]
    },
    {
     "data": {
      "image/png": "[encoded data removed]",
      "text/plain": [
       "<Figure size 1000x600 with 1 Axes>"
      ]
     },
     "metadata": {},
     "output_type": "display_data"
    },
    {
     "name": "stdout",
     "output_type": "stream",
     "text": [
      "  Quarter  Predicted_Revenue\n",
      "0  2024Q1        1362.112629\n",
      "1  2024Q2        4080.946977\n",
      "2  2024Q3        4072.860612\n",
      "3  2024Q4        4064.774248\n",
      "4  2025Q1        2704.596281\n"
     ]
    }
   ],
   "source": [
    "import pandas as pd\n",
    "import numpy as np\n",
    "from sklearn.linear_model import LinearRegression\n",
    "import matplotlib.pyplot as plt\n",
    "\n",
    "# Load the dataset\n",
    "data = pd.read_csv('C:/Users/Heba/Documents/Final graduation documents/cleaned_wshy_store.csv')\n",
    "\n",
    "# Use 'Total_Amount' as the revenue column (adjust this if it's 'Net_Value')\n",
    "revenue_column = 'Total_Amount'\n",
    "\n",
    "# Convert 'Date' column to datetime format\n",
    "data['Date'] = pd.to_datetime(data['Date'], errors='coerce')\n",
    "\n",
    "# Check for missing or invalid dates\n",
    "if data['Date'].isnull().any():\n",
    "    print(\"Warning: There are missing or invalid dates in the dataset.\")\n",
    "\n",
    "# Feature engineering: Extract year and month from the date\n",
    "data['Year'] = data['Date'].dt.year\n",
    "data['Month'] = data['Date'].dt.month\n",
    "\n",
    "# Select the features for the model (Year and Month)\n",
    "X = data[['Year', 'Month']]\n",
    "\n",
    "# The target variable (Revenue)\n",
    "y = data[revenue_column]\n",
    "\n",
    "# Split the data into training and testing datasets (e.g., 80% for training, 20% for testing)\n",
    "train_size = int(0.8 * len(data))\n",
    "X_train, X_test = X[:train_size], X[train_size:]\n",
    "y_train, y_test = y[:train_size], y[train_size:]\n",
    "\n",
    "# Create and train the linear regression model\n",
    "model = LinearRegression()\n",
    "model.fit(X_train, y_train)\n",
    "\n",
    "# Generate future dates for prediction (March 2024 to February 2025)\n",
    "future_dates = pd.date_range(start='2024-03-01', end='2025-02-28', freq='M')\n",
    "future_data = pd.DataFrame({\n",
    "    'Year': future_dates.year,\n",
    "    'Month': future_dates.month\n",
    "})\n",
    "\n",
    "# Make predictions for the future data\n",
    "future_predictions = model.predict(future_data)\n",
    "\n",
    "# Create a DataFrame for the forecasted results\n",
    "forecast = pd.DataFrame({\n",
    "    'Date': future_dates,\n",
    "    'Predicted_Revenue': future_predictions\n",
    "})\n",
    "\n",
    "# Group the predictions by quarter\n",
    "forecast['Quarter'] = forecast['Date'].dt.to_period('Q')\n",
    "quarterly_forecast = forecast.groupby('Quarter')['Predicted_Revenue'].sum().reset_index()\n",
    "\n",
    "# Visualize the forecasted revenue as a trend line\n",
    "plt.figure(figsize=(10, 6))\n",
    "plt.plot(quarterly_forecast['Quarter'].astype(str), quarterly_forecast['Predicted_Revenue'], marker='o', linestyle='-', color='b', label='Predicted Revenue')\n",
    "plt.title('Quarterly Revenue Forecast for 2024-2025 (Trend Line)')\n",
    "plt.xlabel('Quarter')\n",
    "plt.ylabel('Predicted Revenue')\n",
    "plt.xticks(rotation=45)\n",
    "plt.grid(True)\n",
    "plt.legend()\n",
    "plt.tight_layout()\n",
    "plt.show()\n",
    "\n",
    "# Print the forecasted quarterly revenue\n",
    "print(quarterly_forecast)\n"
   ]
  },
  {
   "cell_type": "code",
   "execution_count": null,
   "id": "6f90b15d-47d3-4925-9de4-8222839718c7",
   "metadata": {},
   "outputs": [],
   "source": []
  }
 ],
 "metadata": {
  "kernelspec": {
   "display_name": "Python 3 (ipykernel)",
   "language": "python",
   "name": "python3"
  },
  "language_info": {
   "codemirror_mode": {
    "name": "ipython",
    "version": 3
   },
   "file_extension": ".py",
   "mimetype": "text/x-python",
   "name": "python",
   "nbconvert_exporter": "python",
   "pygments_lexer": "ipython3",
   "version": "3.12.4"
  }
 },
 "nbformat": 4,
 "nbformat_minor": 5
}
